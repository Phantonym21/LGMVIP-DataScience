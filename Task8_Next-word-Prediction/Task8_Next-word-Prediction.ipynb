{
 "cells": [
  {
   "cell_type": "markdown",
   "id": "fa19f778",
   "metadata": {},
   "source": [
    "***DATA SCIENCE INTERN AT LETSGROWMORE LGMVIPDECEMBER NAME: AVISHKAR DIGE TASK 8 : Next Word Prediction***"
   ]
  },
  {
   "cell_type": "code",
   "execution_count": 55,
   "id": "5d13c0eb",
   "metadata": {},
   "outputs": [],
   "source": [
    "import numpy as np\n",
    "from nltk.tokenize import RegexpTokenizer\n",
    "from tensorflow.keras.models import Sequential, load_model\n",
    "from tensorflow.keras.layers import LSTM\n",
    "from keras.layers.core import Dense, Activation\n",
    "from tensorflow.keras.optimizers import RMSprop\n",
    "import matplotlib.pyplot as plt\n",
    "import pickle\n",
    "import heapq"
   ]
  },
  {
   "cell_type": "code",
   "execution_count": 44,
   "id": "14be105a",
   "metadata": {},
   "outputs": [
    {
     "name": "stdout",
     "output_type": "stream",
     "text": [
      "corpus length: 581888\n"
     ]
    }
   ],
   "source": [
    "text = open('1661-0.txt' ,encoding ='UTF-8').read().lower()\n",
    "print('corpus length:', len(text))"
   ]
  },
  {
   "cell_type": "code",
   "execution_count": 45,
   "id": "87ae6e9e",
   "metadata": {},
   "outputs": [],
   "source": [
    "tokenizer = RegexpTokenizer(r'\\w+')\n",
    "words = tokenizer.tokenize(text)"
   ]
  },
  {
   "cell_type": "code",
   "execution_count": 46,
   "id": "7c0ebf63",
   "metadata": {},
   "outputs": [],
   "source": [
    "unique_words = np.unique(words)\n",
    "unique_word_index = dict((c, i) for i, c in enumerate(unique_words))"
   ]
  },
  {
   "cell_type": "code",
   "execution_count": 47,
   "id": "524ef485",
   "metadata": {},
   "outputs": [
    {
     "name": "stdout",
     "output_type": "stream",
     "text": [
      "['project', 'gutenberg', 's', 'the', 'adventures']\n",
      "of\n"
     ]
    }
   ],
   "source": [
    "WORD_LENGTH = 5\n",
    "prev_words = []\n",
    "next_words = []\n",
    "for i in range(len(words) - WORD_LENGTH):\n",
    "    prev_words.append(words[i:i + WORD_LENGTH])\n",
    "    next_words.append(words[i + WORD_LENGTH])\n",
    "print(prev_words[0])\n",
    "print(next_words[0])"
   ]
  },
  {
   "cell_type": "code",
   "execution_count": 48,
   "id": "8b21dcc3",
   "metadata": {},
   "outputs": [],
   "source": [
    "X = np.zeros((len(prev_words), WORD_LENGTH, len(unique_words)), dtype=bool)\n",
    "Y = np.zeros((len(next_words), len(unique_words)), dtype=bool)\n",
    "for i, each_words in enumerate(prev_words):\n",
    "    for j, each_word in enumerate(each_words):\n",
    "        X[i, j, unique_word_index[each_word]] = 1\n",
    "    Y[i, unique_word_index[next_words[i]]] = 1"
   ]
  },
  {
   "cell_type": "code",
   "execution_count": 49,
   "id": "cd66a2d6",
   "metadata": {},
   "outputs": [
    {
     "name": "stdout",
     "output_type": "stream",
     "text": [
      "[False False False ... False False False]\n"
     ]
    }
   ],
   "source": [
    "print(X[0][0])"
   ]
  },
  {
   "cell_type": "code",
   "execution_count": 50,
   "id": "14beb5e4",
   "metadata": {},
   "outputs": [],
   "source": [
    "model = Sequential()\n",
    "model.add(LSTM(128, input_shape=(WORD_LENGTH, len(unique_words))))\n",
    "model.add(Dense(len(unique_words)))\n",
    "model.add(Activation('softmax'))"
   ]
  },
  {
   "cell_type": "code",
   "execution_count": 51,
   "id": "718acf47",
   "metadata": {},
   "outputs": [
    {
     "name": "stdout",
     "output_type": "stream",
     "text": [
      "Epoch 1/10\n",
      "811/811 [==============================] - 99s 121ms/step - loss: 6.0132 - accuracy: 0.1077 - val_loss: 7.1232 - val_accuracy: 0.0994\n",
      "Epoch 2/10\n",
      "811/811 [==============================] - 98s 120ms/step - loss: 5.7745 - accuracy: 0.1479 - val_loss: 7.8108 - val_accuracy: 0.1049\n",
      "Epoch 3/10\n",
      "811/811 [==============================] - 93s 115ms/step - loss: 5.7512 - accuracy: 0.1747 - val_loss: 8.0916 - val_accuracy: 0.1071\n",
      "Epoch 4/10\n",
      "811/811 [==============================] - 97s 120ms/step - loss: 5.4259 - accuracy: 0.2122 - val_loss: 8.2832 - val_accuracy: 0.1018\n",
      "Epoch 5/10\n",
      "811/811 [==============================] - 91s 112ms/step - loss: 5.0827 - accuracy: 0.2526 - val_loss: 8.5405 - val_accuracy: 0.1044\n",
      "Epoch 6/10\n",
      "811/811 [==============================] - 87s 108ms/step - loss: 4.7455 - accuracy: 0.2950 - val_loss: 8.5829 - val_accuracy: 0.0871\n",
      "Epoch 7/10\n",
      "811/811 [==============================] - 88s 109ms/step - loss: 4.4281 - accuracy: 0.3366 - val_loss: 8.8471 - val_accuracy: 0.0892\n",
      "Epoch 8/10\n",
      "811/811 [==============================] - 87s 108ms/step - loss: 4.1508 - accuracy: 0.3754 - val_loss: 9.1022 - val_accuracy: 0.0839\n",
      "Epoch 9/10\n",
      "811/811 [==============================] - 88s 108ms/step - loss: 3.9201 - accuracy: 0.4122 - val_loss: 9.6255 - val_accuracy: 0.0758\n",
      "Epoch 10/10\n",
      "811/811 [==============================] - 83s 103ms/step - loss: 3.7409 - accuracy: 0.4427 - val_loss: 9.4695 - val_accuracy: 0.0769\n"
     ]
    }
   ],
   "source": [
    "optimizer = RMSprop(lr=0.01)\n",
    "model.compile(loss='categorical_crossentropy', optimizer=optimizer, metrics=['accuracy'])\n",
    "history = model.fit(X, Y, validation_split=0.05, batch_size=128, epochs=10, shuffle=True).history"
   ]
  },
  {
   "cell_type": "code",
   "execution_count": 57,
   "id": "bcb41a30",
   "metadata": {},
   "outputs": [
    {
     "data": {
      "text/plain": [
       "{'loss': [6.013178825378418,\n",
       "  5.774477958679199,\n",
       "  5.751172065734863,\n",
       "  5.4258575439453125,\n",
       "  5.082727909088135,\n",
       "  4.745548725128174,\n",
       "  4.428077697753906,\n",
       "  4.150802135467529,\n",
       "  3.9200966358184814,\n",
       "  3.740877389907837],\n",
       " 'accuracy': [0.10773041099309921,\n",
       "  0.14794860780239105,\n",
       "  0.17465472221374512,\n",
       "  0.2122129201889038,\n",
       "  0.2525853216648102,\n",
       "  0.295020192861557,\n",
       "  0.3366069495677948,\n",
       "  0.3754180371761322,\n",
       "  0.4121762812137604,\n",
       "  0.44273748993873596],\n",
       " 'val_loss': [7.123224258422852,\n",
       "  7.810762882232666,\n",
       "  8.091642379760742,\n",
       "  8.283167839050293,\n",
       "  8.540526390075684,\n",
       "  8.58292007446289,\n",
       "  8.847074508666992,\n",
       "  9.102235794067383,\n",
       "  9.62551498413086,\n",
       "  9.469526290893555],\n",
       " 'val_accuracy': [0.09941413253545761,\n",
       "  0.10490662604570389,\n",
       "  0.1071036234498024,\n",
       "  0.10179421305656433,\n",
       "  0.10435737669467926,\n",
       "  0.08714756369590759,\n",
       "  0.0891614779829979,\n",
       "  0.08385206758975983,\n",
       "  0.07579641044139862,\n",
       "  0.07689490914344788]}"
      ]
     },
     "execution_count": 57,
     "metadata": {},
     "output_type": "execute_result"
    }
   ],
   "source": [
    "history"
   ]
  },
  {
   "cell_type": "code",
   "execution_count": 58,
   "id": "4af3cc8a",
   "metadata": {},
   "outputs": [
    {
     "data": {
      "text/plain": [
       "<matplotlib.legend.Legend at 0x27897b13ca0>"
      ]
     },
     "execution_count": 58,
     "metadata": {},
     "output_type": "execute_result"
    },
    {
     "data": {
      "image/png": "[encoded data removed]",
      "text/plain": [
       "<Figure size 432x288 with 1 Axes>"
      ]
     },
     "metadata": {
      "needs_background": "light"
     },
     "output_type": "display_data"
    }
   ],
   "source": [
    "plt.plot(history['accuracy'])\n",
    "plt.plot(history['val_accuracy'])\n",
    "plt.title('model accuracy')\n",
    "plt.ylabel('accuracy')\n",
    "plt.xlabel('epoch')\n",
    "plt.legend(['train', 'test'], loc='upper left')"
   ]
  },
  {
   "cell_type": "code",
   "execution_count": 59,
   "id": "14a8477e",
   "metadata": {},
   "outputs": [
    {
     "data": {
      "text/plain": [
       "<matplotlib.legend.Legend at 0x27898221910>"
      ]
     },
     "execution_count": 59,
     "metadata": {},
     "output_type": "execute_result"
    },
    {
     "data": {
      "image/png": "[encoded data removed]",
      "text/plain": [
       "<Figure size 432x288 with 1 Axes>"
      ]
     },
     "metadata": {
      "needs_background": "light"
     },
     "output_type": "display_data"
    }
   ],
   "source": [
    "plt.plot(history['loss'])\n",
    "plt.plot(history['val_loss'])\n",
    "plt.title('model loss')\n",
    "plt.ylabel('loss')\n",
    "plt.xlabel('epoch')\n",
    "plt.legend(['train', 'test'], loc='upper left')"
   ]
  },
  {
   "cell_type": "code",
   "execution_count": 60,
   "id": "b6febe4a",
   "metadata": {},
   "outputs": [
    {
     "name": "stdout",
     "output_type": "stream",
     "text": [
      "it\n",
      "is\n",
      "not\n",
      "a\n",
      "lack\n"
     ]
    },
    {
     "data": {
      "text/plain": [
       "array([[[0., 0., 0., ..., 0., 0., 0.],\n",
       "        [0., 0., 0., ..., 0., 0., 0.],\n",
       "        [0., 0., 0., ..., 0., 0., 0.],\n",
       "        [0., 0., 0., ..., 0., 0., 0.],\n",
       "        [0., 0., 0., ..., 0., 0., 0.]]])"
      ]
     },
     "execution_count": 60,
     "metadata": {},
     "output_type": "execute_result"
    }
   ],
   "source": [
    "def prepare_input(text):\n",
    "    x = np.zeros((1, WORD_LENGTH, len(unique_words)))\n",
    "    for t, word in enumerate(text.split()):\n",
    "        print(word)\n",
    "        x[0, t, unique_word_index[word]] = 1\n",
    "    return x\n",
    "prepare_input(\"It is not a lack\".lower())"
   ]
  },
  {
   "cell_type": "code",
   "execution_count": 61,
   "id": "978d3f98",
   "metadata": {},
   "outputs": [],
   "source": [
    "def sample(preds, top_n=3):\n",
    "    preds = np.asarray(preds).astype('float64')\n",
    "    preds = np.log(preds)\n",
    "    exp_preds = np.exp(preds)\n",
    "    preds = exp_preds / np.sum(exp_preds)\n",
    "\n",
    "    return heapq.nlargest(top_n, range(len(preds)), preds.take)"
   ]
  },
  {
   "cell_type": "code",
   "execution_count": 62,
   "id": "44c528ea",
   "metadata": {},
   "outputs": [],
   "source": [
    "def predict_completions(text, n=3):\n",
    "    if text == \"\":\n",
    "        return(\"0\")\n",
    "    x = prepare_input(text)\n",
    "    preds = model.predict(x, verbose=0)[0]\n",
    "    next_indices = sample(preds, n)\n",
    "    return [unique_words[idx] for idx in next_indices]"
   ]
  },
  {
   "cell_type": "code",
   "execution_count": 63,
   "id": "41b3c0c9",
   "metadata": {},
   "outputs": [
    {
     "name": "stdout",
     "output_type": "stream",
     "text": [
      "correct sentence:  There is nothing more deceptive than an obvious fact\n",
      "Sequence:  there is nothing more deceptive\n",
      "there\n",
      "is\n",
      "nothing\n",
      "more\n",
      "deceptive\n",
      "next possible words:  ['than', 'to', 'what', 'are', 'about']\n"
     ]
    }
   ],
   "source": [
    "q =  \"There is nothing more deceptive than an obvious fact\"\n",
    "print(\"correct sentence: \",q)\n",
    "seq = \" \".join(tokenizer.tokenize(q.lower())[0:5])\n",
    "print(\"Sequence: \",seq)\n",
    "print(\"next possible words: \", predict_completions(seq, 5))"
   ]
  },
  {
   "cell_type": "code",
   "execution_count": null,
   "id": "50c288f9",
   "metadata": {},
   "outputs": [],
   "source": []
  }
 ],
 "metadata": {
  "kernelspec": {
   "display_name": "Python 3 (ipykernel)",
   "language": "python",
   "name": "python3"
  },
  "language_info": {
   "codemirror_mode": {
    "name": "ipython",
    "version": 3
   },
   "file_extension": ".py",
   "mimetype": "text/x-python",
   "name": "python",
   "nbconvert_exporter": "python",
   "pygments_lexer": "ipython3",
   "version": "3.9.7"
  }
 },
 "nbformat": 4,
 "nbformat_minor": 5
}
