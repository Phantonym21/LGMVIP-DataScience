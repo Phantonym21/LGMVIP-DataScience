{
 "cells": [
  {
   "cell_type": "code",
   "execution_count": null,
   "metadata": {
    "_cell_guid": "b1076dfc-b9ad-4769-8c92-a6c4dae69d19",
    "_uuid": "8f2839f25d086af736a60e9eeb907d3b93b6e0e5"
   },
   "outputs": [],
   "source": [
    "# This Python 3 environment comes with many helpful analytics libraries installed\n",
    "# It is defined by the kaggle/python Docker image: https://github.com/kaggle/docker-python\n",
    "# For example, here's several helpful packages to load\n",
    "\n",
    "import numpy as np # linear algebra\n",
    "import pandas as pd # data processing, CSV file I/O (e.g. pd.read_csv)\n",
    "\n",
    "# Input data files are available in the read-only \"../input/\" directory\n",
    "# For example, running this (by clicking run or pressing Shift+Enter) will list all files under the input directory\n",
    "\n",
    "import os\n",
    "for dirname, _, filenames in os.walk('/kaggle/input'):\n",
    "    for filename in filenames:\n",
    "        print(os.path.join(dirname, filename))\n",
    "\n",
    "# You can write up to 20GB to the current directory (/kaggle/working/) that gets preserved as output when you create a version using \"Save & Run All\" \n",
    "# You can also write temporary files to /kaggle/temp/, but they won't be saved outside of the current session"
   ]
  },
  {
   "cell_type": "code",
   "execution_count": 3,
   "metadata": {
    "execution": {
     "iopub.execute_input": "2021-12-30T11:41:10.045629Z",
     "iopub.status.busy": "2021-12-30T11:41:10.045304Z",
     "iopub.status.idle": "2021-12-30T11:41:10.052682Z",
     "shell.execute_reply": "2021-12-30T11:41:10.051657Z",
     "shell.execute_reply.started": "2021-12-30T11:41:10.045580Z"
    }
   },
   "outputs": [],
   "source": [
    "import numpy as np\n",
    "import pandas as pd\n",
    "import os\n",
    "import tensorflow as tf\n",
    "from keras.preprocessing.image import ImageDataGenerator, load_img\n",
    "from keras.layers import Conv2D, Dense, BatchNormalization, Activation, Dropout, MaxPooling2D, Flatten\n",
    "from tensorflow.keras.optimizers import Adam, RMSprop, SGD\n",
    "from keras import regularizers\n",
    "from keras.callbacks import ModelCheckpoint, CSVLogger, TensorBoard, EarlyStopping, ReduceLROnPlateau\n",
    "import datetime\n",
    "import matplotlib.pyplot as plt\n",
    "# from keras.utils import plot_model"
   ]
  },
  {
   "cell_type": "code",
   "execution_count": 4,
   "metadata": {
    "execution": {
     "iopub.execute_input": "2021-12-30T11:41:22.785848Z",
     "iopub.status.busy": "2021-12-30T11:41:22.785296Z",
     "iopub.status.idle": "2021-12-30T11:41:23.640206Z",
     "shell.execute_reply": "2021-12-30T11:41:23.639422Z",
     "shell.execute_reply.started": "2021-12-30T11:41:22.785812Z"
    }
   },
   "outputs": [],
   "source": [
    "train_dir = '../input/fer2013/train/'\n",
    "test_dir = '../input/fer2013/test/'\n",
    "\n",
    "row, col = 48, 48\n",
    "classes = 7\n",
    "\n",
    "def count_exp(path, set_):\n",
    "    dict_ = {}\n",
    "    for expression in os.listdir(path):\n",
    "        dir_ = path + expression\n",
    "        dict_[expression] = len(os.listdir(dir_))\n",
    "    df = pd.DataFrame(dict_, index=[set_])\n",
    "    return df\n",
    "train_count = count_exp(train_dir, 'train')\n",
    "test_count = count_exp(test_dir, 'test')\n",
    "print(train_count)\n",
    "print(test_count)"
   ]
  },
  {
   "cell_type": "code",
   "execution_count": 5,
   "metadata": {
    "execution": {
     "iopub.execute_input": "2021-12-30T11:41:40.781891Z",
     "iopub.status.busy": "2021-12-30T11:41:40.781275Z",
     "iopub.status.idle": "2021-12-30T11:41:41.244778Z",
     "shell.execute_reply": "2021-12-30T11:41:41.243653Z",
     "shell.execute_reply.started": "2021-12-30T11:41:40.781853Z"
    }
   },
   "outputs": [],
   "source": [
    "plt.figure(figsize=(14,22))\n",
    "i = 1\n",
    "for expression in os.listdir(train_dir):\n",
    "    img = load_img((train_dir + expression +'/'+ os.listdir(train_dir + expression)[1]))\n",
    "    plt.subplot(1,7,i)\n",
    "    plt.imshow(img)\n",
    "    plt.title(expression)\n",
    "    plt.axis('off')\n",
    "    i += 1\n",
    "plt.show()"
   ]
  },
  {
   "cell_type": "code",
   "execution_count": 6,
   "metadata": {
    "execution": {
     "iopub.execute_input": "2021-12-30T11:41:57.849059Z",
     "iopub.status.busy": "2021-12-30T11:41:57.848736Z",
     "iopub.status.idle": "2021-12-30T11:41:58.251179Z",
     "shell.execute_reply": "2021-12-30T11:41:58.250617Z",
     "shell.execute_reply.started": "2021-12-30T11:41:57.849025Z"
    }
   },
   "outputs": [],
   "source": [
    "plt.figure(figsize=(14,22))\n",
    "i = 1\n",
    "for expression in os.listdir(test_dir):\n",
    "    img = load_img((test_dir + expression +'/'+ os.listdir(test_dir + expression)[1]))\n",
    "    plt.subplot(1,7,i)\n",
    "    plt.imshow(img)\n",
    "    plt.title(expression)\n",
    "    plt.axis('off')\n",
    "    i += 1\n",
    "plt.show()\n",
    "\n"
   ]
  },
  {
   "cell_type": "code",
   "execution_count": 8,
   "metadata": {
    "execution": {
     "iopub.execute_input": "2021-12-30T11:42:35.884126Z",
     "iopub.status.busy": "2021-12-30T11:42:35.883854Z",
     "iopub.status.idle": "2021-12-30T11:42:36.144435Z",
     "shell.execute_reply": "2021-12-30T11:42:36.143563Z",
     "shell.execute_reply.started": "2021-12-30T11:42:35.884098Z"
    }
   },
   "outputs": [],
   "source": [
    "train_count.transpose().plot(kind='bar')"
   ]
  },
  {
   "cell_type": "code",
   "execution_count": 9,
   "metadata": {
    "execution": {
     "iopub.execute_input": "2021-12-30T11:43:25.656678Z",
     "iopub.status.busy": "2021-12-30T11:43:25.656387Z",
     "iopub.status.idle": "2021-12-30T11:43:27.491215Z",
     "shell.execute_reply": "2021-12-30T11:43:27.490326Z",
     "shell.execute_reply.started": "2021-12-30T11:43:25.656650Z"
    }
   },
   "outputs": [],
   "source": [
    "img_size = 48\n",
    "plt.figure(0, figsize=(12,20))\n",
    "index = 0\n",
    "for link in os.listdir(\"../input/fer2013/train\"):\n",
    "    for i in range(1,3):\n",
    "        index += 1\n",
    "        plt.subplot(7,5,index)\n",
    "        img = load_img(\"../input/fer2013/train/\" + link + \"/\" +os.listdir(\"../input/fer2013/train/\" + link)[i], target_size=(img_size, img_size))\n",
    "        plt.imshow(img, cmap=\"gray\")\n",
    "\n",
    "plt.tight_layout()"
   ]
  },
  {
   "cell_type": "code",
   "execution_count": 10,
   "metadata": {
    "execution": {
     "iopub.execute_input": "2021-12-30T11:43:40.412404Z",
     "iopub.status.busy": "2021-12-30T11:43:40.412112Z",
     "iopub.status.idle": "2021-12-30T11:43:40.615204Z",
     "shell.execute_reply": "2021-12-30T11:43:40.614534Z",
     "shell.execute_reply.started": "2021-12-30T11:43:40.412369Z"
    }
   },
   "outputs": [],
   "source": [
    "test_count.transpose().plot(kind='bar')"
   ]
  },
  {
   "cell_type": "code",
   "execution_count": 11,
   "metadata": {
    "execution": {
     "iopub.execute_input": "2021-12-30T11:43:49.927974Z",
     "iopub.status.busy": "2021-12-30T11:43:49.927466Z",
     "iopub.status.idle": "2021-12-30T11:43:51.905262Z",
     "shell.execute_reply": "2021-12-30T11:43:51.904571Z",
     "shell.execute_reply.started": "2021-12-30T11:43:49.927924Z"
    }
   },
   "outputs": [],
   "source": [
    "img_size = 48\n",
    "plt.figure(0, figsize=(12,20))\n",
    "index = 0\n",
    "for link in os.listdir(\"../input/fer2013/test\"):\n",
    "    for i in range(1,3):\n",
    "        index += 1\n",
    "        plt.subplot(7,5,index)\n",
    "        img = load_img(\"../input/fer2013/test/\" + link + \"/\" +os.listdir(\"../input/fer2013/test/\" + link)[i], target_size=(img_size, img_size))\n",
    "        plt.imshow(img, cmap=\"gray\")\n",
    "\n",
    "plt.tight_layout()"
   ]
  },
  {
   "cell_type": "code",
   "execution_count": 12,
   "metadata": {
    "execution": {
     "iopub.execute_input": "2021-12-30T11:45:50.048647Z",
     "iopub.status.busy": "2021-12-30T11:45:50.047925Z",
     "iopub.status.idle": "2021-12-30T11:45:57.257971Z",
     "shell.execute_reply": "2021-12-30T11:45:57.257255Z",
     "shell.execute_reply.started": "2021-12-30T11:45:50.048599Z"
    }
   },
   "outputs": [],
   "source": [
    "train_datagen = ImageDataGenerator(rescale=1./255,\n",
    "                                   zoom_range=0.3,\n",
    "                                   horizontal_flip=True)\n",
    "\n",
    "training_set = train_datagen.flow_from_directory(train_dir,\n",
    "                                                batch_size=64,\n",
    "                                                target_size=(48,48),\n",
    "                                                shuffle=True,\n",
    "                                                color_mode='grayscale',\n",
    "                                                class_mode='categorical')\n",
    "\n",
    "test_datagen = ImageDataGenerator(rescale=1./255)\n",
    "test_set = test_datagen.flow_from_directory(test_dir,\n",
    "                                                batch_size=64,\n",
    "                                                target_size=(48,48),\n",
    "                                                shuffle=True,\n",
    "                                                color_mode='grayscale',\n",
    "                                                class_mode='categorical')"
   ]
  },
  {
   "cell_type": "code",
   "execution_count": 13,
   "metadata": {
    "execution": {
     "iopub.execute_input": "2021-12-30T11:47:39.269607Z",
     "iopub.status.busy": "2021-12-30T11:47:39.268914Z",
     "iopub.status.idle": "2021-12-30T11:47:39.275518Z",
     "shell.execute_reply": "2021-12-30T11:47:39.274788Z",
     "shell.execute_reply.started": "2021-12-30T11:47:39.269560Z"
    }
   },
   "outputs": [],
   "source": [
    "training_set.class_indices"
   ]
  },
  {
   "cell_type": "code",
   "execution_count": 21,
   "metadata": {
    "execution": {
     "iopub.execute_input": "2021-12-30T11:50:55.631922Z",
     "iopub.status.busy": "2021-12-30T11:50:55.631624Z",
     "iopub.status.idle": "2021-12-30T11:50:55.645529Z",
     "shell.execute_reply": "2021-12-30T11:50:55.644637Z",
     "shell.execute_reply.started": "2021-12-30T11:50:55.631893Z"
    }
   },
   "outputs": [],
   "source": [
    "def get_model(input_size, classes=7):\n",
    "     #Initialising the CNN\n",
    "    model = tf.keras.models.Sequential()   \n",
    "\n",
    "    model.add(Conv2D(32, kernel_size=(3, 3), padding='same', activation='relu', input_shape =input_size))\n",
    "    model.add(Conv2D(64, kernel_size=(3, 3), activation='relu', padding='same'))\n",
    "    model.add(BatchNormalization())\n",
    "    model.add(MaxPooling2D(2, 2))\n",
    "    model.add(Dropout(0.25))\n",
    "\n",
    "    model.add(Conv2D(128, kernel_size=(3, 3), activation='relu', padding='same', kernel_regularizer=regularizers.l2(0.01)))\n",
    "    model.add(Conv2D(256, kernel_size=(3, 3), activation='relu', kernel_regularizer=regularizers.l2(0.01)))\n",
    "    model.add(BatchNormalization())\n",
    "    model.add(MaxPooling2D(pool_size=(2, 2)))\n",
    "    model.add(Dropout(0.25))\n",
    "\n",
    "    model.add(Flatten())\n",
    "    model.add(Dense(1024, activation='relu'))\n",
    "    model.add(Dropout(0.5))\n",
    "    \n",
    "    model.add(Dense(classes, activation='softmax'))\n",
    "\n",
    "    #Compliling the model\n",
    "    model.compile(optimizer=Adam(lr=0.0001, decay=1e-6), \n",
    "                  loss='categorical_crossentropy', \n",
    "                  metrics=['accuracy'])\n",
    "    return model"
   ]
  },
  {
   "cell_type": "code",
   "execution_count": 22,
   "metadata": {
    "execution": {
     "iopub.execute_input": "2021-12-30T11:51:38.832656Z",
     "iopub.status.busy": "2021-12-30T11:51:38.832365Z",
     "iopub.status.idle": "2021-12-30T11:51:38.837152Z",
     "shell.execute_reply": "2021-12-30T11:51:38.836471Z",
     "shell.execute_reply.started": "2021-12-30T11:51:38.832622Z"
    }
   },
   "outputs": [],
   "source": [
    "from tensorflow.keras.utils import plot_model"
   ]
  },
  {
   "cell_type": "code",
   "execution_count": 24,
   "metadata": {
    "execution": {
     "iopub.execute_input": "2021-12-30T11:51:42.200956Z",
     "iopub.status.busy": "2021-12-30T11:51:42.200079Z",
     "iopub.status.idle": "2021-12-30T11:51:42.475176Z",
     "shell.execute_reply": "2021-12-30T11:51:42.474285Z",
     "shell.execute_reply.started": "2021-12-30T11:51:42.200905Z"
    }
   },
   "outputs": [],
   "source": [
    "fernet = get_model((row,col,1), classes)\n",
    "fernet.summary()"
   ]
  },
  {
   "cell_type": "code",
   "execution_count": 25,
   "metadata": {
    "execution": {
     "iopub.execute_input": "2021-12-30T11:51:47.263550Z",
     "iopub.status.busy": "2021-12-30T11:51:47.263264Z",
     "iopub.status.idle": "2021-12-30T11:51:47.272813Z",
     "shell.execute_reply": "2021-12-30T11:51:47.271996Z",
     "shell.execute_reply.started": "2021-12-30T11:51:47.263521Z"
    }
   },
   "outputs": [],
   "source": [
    "chk_path = 'ferNet.h5'\n",
    "log_dir = \"checkpoint/logs/\" + datetime.datetime.now().strftime(\"%Y%m%d-%H%M%S\")\n",
    "\n",
    "checkpoint = ModelCheckpoint(filepath=chk_path,\n",
    "                             save_best_only=True,\n",
    "                             verbose=1,\n",
    "                             mode='min',\n",
    "                             moniter='val_loss')\n",
    "\n",
    "earlystop = EarlyStopping(monitor='val_loss', \n",
    "                          min_delta=0, \n",
    "                          patience=3, \n",
    "                          verbose=1, \n",
    "                          restore_best_weights=True)\n",
    "                        \n",
    "reduce_lr = ReduceLROnPlateau(monitor='val_loss', \n",
    "                              factor=0.2, \n",
    "                              patience=6, \n",
    "                              verbose=1, \n",
    "                              min_delta=0.0001)\n",
    "\n",
    "\n",
    "tensorboard_callback = tf.keras.callbacks.TensorBoard(log_dir=log_dir, histogram_freq=1)\n",
    "csv_logger = CSVLogger('training.log')\n",
    "\n",
    "callbacks = [checkpoint, reduce_lr, csv_logger]"
   ]
  },
  {
   "cell_type": "code",
   "execution_count": 26,
   "metadata": {
    "execution": {
     "iopub.execute_input": "2021-12-30T11:52:04.545081Z",
     "iopub.status.busy": "2021-12-30T11:52:04.544830Z",
     "iopub.status.idle": "2021-12-30T13:24:20.911852Z",
     "shell.execute_reply": "2021-12-30T13:24:20.910066Z",
     "shell.execute_reply.started": "2021-12-30T11:52:04.545055Z"
    }
   },
   "outputs": [],
   "source": [
    "steps_per_epoch = training_set.n // training_set.batch_size\n",
    "validation_steps = test_set.n // test_set.batch_size\n",
    "\n",
    "hist = fernet.fit(x=training_set,\n",
    "                 validation_data=test_set,\n",
    "                 epochs=10,\n",
    "                 callbacks=callbacks,\n",
    "                 steps_per_epoch=steps_per_epoch,\n",
    "                 validation_steps=validation_steps)"
   ]
  },
  {
   "cell_type": "markdown",
   "metadata": {},
   "source": [
    "**Loss and Accuracy Plot**"
   ]
  },
  {
   "cell_type": "code",
   "execution_count": 27,
   "metadata": {
    "execution": {
     "iopub.execute_input": "2021-12-30T13:32:57.664943Z",
     "iopub.status.busy": "2021-12-30T13:32:57.664130Z",
     "iopub.status.idle": "2021-12-30T13:32:58.022255Z",
     "shell.execute_reply": "2021-12-30T13:32:58.021337Z",
     "shell.execute_reply.started": "2021-12-30T13:32:57.664890Z"
    }
   },
   "outputs": [],
   "source": [
    "plt.figure(figsize=(14,5))\n",
    "plt.subplot(1,2,2)\n",
    "plt.plot(hist.history['accuracy'])\n",
    "plt.plot(hist.history['val_accuracy'])\n",
    "plt.title('Model Accuracy')\n",
    "plt.xlabel('Epochs')\n",
    "plt.ylabel('Accuracy')\n",
    "plt.legend(['train', 'test'], loc='upper left')\n",
    "\n",
    "plt.subplot(1,2,1)\n",
    "plt.plot(hist.history['loss'])\n",
    "plt.plot(hist.history['val_loss'])\n",
    "plt.title('model Loss')\n",
    "plt.xlabel('Epochs')\n",
    "plt.ylabel('Loss')\n",
    "plt.legend(['train', 'test'], loc='upper left')\n",
    "plt.show()"
   ]
  },
  {
   "cell_type": "code",
   "execution_count": 28,
   "metadata": {
    "execution": {
     "iopub.execute_input": "2021-12-30T13:33:57.754207Z",
     "iopub.status.busy": "2021-12-30T13:33:57.753884Z",
     "iopub.status.idle": "2021-12-30T13:37:01.046615Z",
     "shell.execute_reply": "2021-12-30T13:37:01.045984Z",
     "shell.execute_reply.started": "2021-12-30T13:33:57.754175Z"
    }
   },
   "outputs": [],
   "source": [
    "train_loss, train_accu = fernet.evaluate(training_set)\n",
    "test_loss, test_accu = fernet.evaluate(test_set)\n",
    "print(\"final train accuracy = {:.2f} , validation accuracy = {:.2f}\".format(train_accu*100, test_accu*100))fernet.save_weights('fernet_bestweight.h5')"
   ]
  },
  {
   "cell_type": "code",
   "execution_count": 29,
   "metadata": {
    "execution": {
     "iopub.execute_input": "2021-12-30T13:37:40.829947Z",
     "iopub.status.busy": "2021-12-30T13:37:40.829635Z",
     "iopub.status.idle": "2021-12-30T13:37:41.043634Z",
     "shell.execute_reply": "2021-12-30T13:37:41.042812Z",
     "shell.execute_reply.started": "2021-12-30T13:37:40.829907Z"
    }
   },
   "outputs": [],
   "source": [
    "fernet.save_weights('fernet_bestweight.h5')"
   ]
  }
 ],
 "metadata": {
  "kernelspec": {
   "display_name": "Python 3 (ipykernel)",
   "language": "python",
   "name": "python3"
  },
  "language_info": {
   "codemirror_mode": {
    "name": "ipython",
    "version": 3
   },
   "file_extension": ".py",
   "mimetype": "text/x-python",
   "name": "python",
   "nbconvert_exporter": "python",
   "pygments_lexer": "ipython3",
   "version": "3.9.7"
  }
 },
 "nbformat": 4,
 "nbformat_minor": 4
}
